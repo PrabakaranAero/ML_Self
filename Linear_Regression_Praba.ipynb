{
  "nbformat": 4,
  "nbformat_minor": 0,
  "metadata": {
    "colab": {
      "name": "Linear_Regression_Praba.ipynb",
      "version": "0.3.2",
      "provenance": [],
      "collapsed_sections": [],
      "include_colab_link": true
    },
    "kernelspec": {
      "name": "python3",
      "display_name": "Python 3"
    }
  },
  "cells": [
    {
      "cell_type": "markdown",
      "metadata": {
        "id": "view-in-github",
        "colab_type": "text"
      },
      "source": [
        "<a href=\"https://colab.research.google.com/github/PrabakaranAero/ML_Self/blob/master/Linear_Regression_Praba.ipynb\" target=\"_parent\"><img src=\"https://colab.research.google.com/assets/colab-badge.svg\" alt=\"Open In Colab\"/></a>"
      ]
    },
    {
      "cell_type": "markdown",
      "metadata": {
        "id": "UUU6eYUmQYUz",
        "colab_type": "text"
      },
      "source": [
        "**Linear Regression - From scratch **\n",
        "\n",
        "Ref : https://youtu.be/1C3olrs1CUw   (Least square criterion )\n"
      ]
    },
    {
      "cell_type": "code",
      "metadata": {
        "id": "E7vAr08BQU1z",
        "colab_type": "code",
        "colab": {}
      },
      "source": [
        "import matplotlib.pyplot as plt\n",
        "import numpy as np\n",
        "#Data \n",
        "height=np.array([65,65,62,67,69,65,61,67])\n",
        "weight=np.array([105,125,110,120,140,135,95,130])\n",
        "#print(height.size)\n",
        "plt.scatter(height,weight)\n",
        "plt.show()"
      ],
      "execution_count": 0,
      "outputs": []
    },
    {
      "cell_type": "markdown",
      "metadata": {
        "id": "xrcwOwKxR6GE",
        "colab_type": "text"
      },
      "source": [
        "**Least Square creteria:**\n",
        "\n",
        "The linear line we draw should have least possible (minimum) distance to all data points.\n",
        "\n",
        "Let us now draw an arbitrary line in space that passes through some of these data points. The equation of this straight line would be Y = mX + b where m is the slope and b is its intercept on the Y-axis.\n",
        "\n",
        "\n",
        "![alt text](https://miro.medium.com/max/1313/1*ZEIXhLHr99IK7qVSZJlyJg.png)\n",
        "\n",
        "\n",
        "\n",
        "y =mx+c is replaced by the following equation (Just focus on the concept)\n",
        "\n",
        "![alt text](https://1.bp.blogspot.com/-wenmTJF2VJU/XXiphTj2-fI/AAAAAAAACh8/aHtgRNUyYTQyD9sQgNqJF-VHUsXz6SXngCLcBGAsYHQ/s1600/Capture.JPG)\n",
        "\n",
        "\n",
        "Finding y-intercept(c) in equation y=mx+c\n",
        "\n",
        "***Here c is mentioned as b0\n",
        "\n",
        "![alt text](https://1.bp.blogspot.com/-cO9lezmLNdI/XXiuTX8FZZI/AAAAAAAACiI/qfRS2_KjHYkU9qpzZHOkPEB6C4Obx6e_ACLcBGAsYHQ/s1600/Capture_1.JPG)\n"
      ]
    },
    {
      "cell_type": "code",
      "metadata": {
        "id": "cu-6r0fGTXWP",
        "colab_type": "code",
        "colab": {
          "base_uri": "https://localhost:8080/",
          "height": 86
        },
        "outputId": "a6dcd246-5ec8-4dcb-b6b1-4b7295124ba5"
      },
      "source": [
        "# Finding the slope of the line\n",
        "if weight.ndim==1 and height.ndim==1:   # Checking whether given data is 1 dimensional array\n",
        "  numerator_1=sum(height*weight)\n",
        "  numerator_2=(sum(height)*sum(weight)/np.size(weight))\n",
        "  print(numerator_2)\n",
        "  denominator_1=sum(height**2)\n",
        "  denominator_2=(sum(height)**2/np.size(weight))\n",
        "  slope_m=((numerator_1-numerator_2)/(denominator_1-denominator_2))\n",
        "  print(slope_m)\n",
        "  \n",
        "  #y intercept \n",
        "  y_inter_c=(sum(weight)-(slope_m*sum(height)))/np.size(weight)\n",
        "  print(y_inter_c)\n",
        "  print('The equation of Line is : y={1}+{0}X'.format(round(slope_m,2),round(y_inter_c,2)))"
      ],
      "execution_count": 19,
      "outputs": [
        {
          "output_type": "stream",
          "text": [
            "62520.0\n",
            "4.705882352941177\n",
            "-186.47058823529414\n",
            "The equation of Line is : y=-186.47+4.71X\n"
          ],
          "name": "stdout"
        }
      ]
    },
    {
      "cell_type": "markdown",
      "metadata": {
        "id": "y4WrEXRUcdaW",
        "colab_type": "text"
      },
      "source": [
        ""
      ]
    },
    {
      "cell_type": "code",
      "metadata": {
        "id": "H49gQxy2cber",
        "colab_type": "code",
        "colab": {
          "base_uri": "https://localhost:8080/",
          "height": 269
        },
        "outputId": "7b59eca4-d4e8-463b-bf16-cb3311974bea"
      },
      "source": [
        "#Drawing a straighrt line in matplotlib \n",
        "x=np.linspace(-5,70,200)\n",
        "y=(-186.47+(4.71*x))\n",
        "plt.plot(x,y,'-r')\n",
        "plt.show()"
      ],
      "execution_count": 20,
      "outputs": [
        {
          "output_type": "display_data",
          "data": {
            "image/png": "[encoded data removed]",
            "text/plain": [
              "<Figure size 432x288 with 1 Axes>"
            ]
          },
          "metadata": {
            "tags": []
          }
        }
      ]
    },
    {
      "cell_type": "markdown",
      "metadata": {
        "id": "qNGdYjhbZ-GV",
        "colab_type": "text"
      },
      "source": [
        ""
      ]
    },
    {
      "cell_type": "code",
      "metadata": {
        "id": "1CiPvOJBZ9qG",
        "colab_type": "code",
        "colab": {}
      },
      "source": [
        ""
      ],
      "execution_count": 0,
      "outputs": []
    }
  ]
}