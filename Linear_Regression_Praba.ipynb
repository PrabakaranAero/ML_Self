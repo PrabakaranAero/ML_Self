{
  "nbformat": 4,
  "nbformat_minor": 0,
  "metadata": {
    "colab": {
      "name": "Linear_Regression_Praba.ipynb",
      "version": "0.3.2",
      "provenance": [],
      "collapsed_sections": [],
      "include_colab_link": true
    },
    "kernelspec": {
      "name": "python3",
      "display_name": "Python 3"
    }
  },
  "cells": [
    {
      "cell_type": "markdown",
      "metadata": {
        "id": "view-in-github",
        "colab_type": "text"
      },
      "source": [
        "<a href=\"https://colab.research.google.com/github/PrabakaranAero/ML_Self/blob/master/Linear_Regression_Praba.ipynb\" target=\"_parent\"><img src=\"https://colab.research.google.com/assets/colab-badge.svg\" alt=\"Open In Colab\"/></a>"
      ]
    },
    {
      "cell_type": "markdown",
      "metadata": {
        "id": "UUU6eYUmQYUz",
        "colab_type": "text"
      },
      "source": [
        "**Linear Regression - From scratch **\n",
        "\n",
        "Ref : https://youtu.be/1C3olrs1CUw   (Least square criterion )\n"
      ]
    },
    {
      "cell_type": "code",
      "metadata": {
        "id": "E7vAr08BQU1z",
        "colab_type": "code",
        "colab": {}
      },
      "source": [
        "import matplotlib.pyplot as plt\n",
        "import numpy as np\n",
        "#Data \n",
        "height=np.array([65,65,62,67,69,65,61,67])\n",
        "weight=np.array([105,125,110,120,140,135,95,130])\n",
        "#print(height.size)\n",
        "#plt.scatter(height,weight)\n",
        "#plt.show()"
      ],
      "execution_count": 0,
      "outputs": []
    },
    {
      "cell_type": "markdown",
      "metadata": {
        "id": "xrcwOwKxR6GE",
        "colab_type": "text"
      },
      "source": [
        "**Least Square creteria:**\n",
        "\n",
        "The linear line we draw should have least possible (minimum) distance to all data points.\n",
        "\n",
        "Let us now draw an arbitrary line in space that passes through some of these data points. The equation of this straight line would be Y = mX + b where m is the slope and b is its intercept on the Y-axis.\n",
        "\n",
        "\n",
        "![alt text](https://miro.medium.com/max/1313/1*ZEIXhLHr99IK7qVSZJlyJg.png)\n",
        "\n",
        "\n",
        "\n",
        "y =mx+c is replaced by the following equation (Just focus on the concept)\n",
        "\n",
        "![alt text](https://1.bp.blogspot.com/-wenmTJF2VJU/XXiphTj2-fI/AAAAAAAACh8/aHtgRNUyYTQyD9sQgNqJF-VHUsXz6SXngCLcBGAsYHQ/s1600/Capture.JPG)\n",
        "\n",
        "\n",
        "Finding y-intercept(c) in equation y=mx+c\n",
        "\n",
        "***Here c is mentioned as b0\n",
        "\n",
        "![alt text](https://1.bp.blogspot.com/-cO9lezmLNdI/XXiuTX8FZZI/AAAAAAAACiI/qfRS2_KjHYkU9qpzZHOkPEB6C4Obx6e_ACLcBGAsYHQ/s1600/Capture_1.JPG)\n"
      ]
    },
    {
      "cell_type": "code",
      "metadata": {
        "id": "cu-6r0fGTXWP",
        "colab_type": "code",
        "colab": {}
      },
      "source": [
        "# Finding the slope of the line\n",
        "\n",
        "# Ref : https://youtu.be/5g8y-XNi2kI ,https://youtu.be/1C3olrs1CUw\n",
        "\n",
        "def LeastSquare_Calculate():\n",
        "  if weight.ndim==1 and height.ndim==1:   # Checking whether given data is 1 dimensional array\n",
        "    numerator_1=sum(height*weight)\n",
        "    numerator_2=(sum(height)*sum(weight)/np.size(weight))\n",
        "    #print(numerator_2)\n",
        "    denominator_1=sum(height**2)\n",
        "    denominator_2=(sum(height)**2/np.size(weight))\n",
        "    slope_m=((numerator_1-numerator_2)/(denominator_1-denominator_2))\n",
        "    #print(slope_m)\n",
        "\n",
        "    #y intercept \n",
        "    y_inter_c=(sum(weight)-(slope_m*sum(height)))/np.size(weight)\n",
        "    #print(y_inter_c)\n",
        "    print('The equation of Line is : y={1}+{0}X'.format(round(slope_m,2),round(y_inter_c,2)))\n",
        "    return([round(slope_m,2),round(y_inter_c,2)])\n",
        "  "
      ],
      "execution_count": 0,
      "outputs": []
    },
    {
      "cell_type": "markdown",
      "metadata": {
        "id": "y4WrEXRUcdaW",
        "colab_type": "text"
      },
      "source": [
        ""
      ]
    },
    {
      "cell_type": "code",
      "metadata": {
        "id": "H49gQxy2cber",
        "colab_type": "code",
        "colab": {
          "base_uri": "https://localhost:8080/",
          "height": 312
        },
        "outputId": "42716db8-a736-489f-a7ad-f583c2853267"
      },
      "source": [
        "#Drawing a straighrt line in matplotlib \n",
        "x=np.linspace(59,70,200)\n",
        "result_1=LeastSquare_Calculate()\n",
        "slope_line=result_1[0]\n",
        "y_intercept_line=result_1[1]\n",
        "y=(result_1[1]+(result_1[0]*x))\n",
        "\n",
        "plt.scatter(height,weight)   # Input data \n",
        "\n",
        "plt.plot(x, y, '-r', label='y={1}+{0}X'.format(round(slope_m,2),round(y_inter_c,2)))\n",
        "plt.title('Linear regression',color='#030216')\n",
        "plt.xlabel('x', color='#1C2833')\n",
        "plt.ylabel('y', color='#1C2833')\n",
        "plt.legend(loc='upper left')\n",
        "plt.grid()\n",
        "plt.show()"
      ],
      "execution_count": 53,
      "outputs": [
        {
          "output_type": "stream",
          "text": [
            "The equation of Line is : y=-186.47+4.71X\n"
          ],
          "name": "stdout"
        },
        {
          "output_type": "display_data",
          "data": {
            "image/png": "[encoded data removed]",
            "text/plain": [
              "<Figure size 432x288 with 1 Axes>"
            ]
          },
          "metadata": {
            "tags": []
          }
        }
      ]
    },
    {
      "cell_type": "markdown",
      "metadata": {
        "id": "pr1eQxmw4v1k",
        "colab_type": "text"
      },
      "source": [
        "The model we trained is not universal :  \n",
        "\n",
        "The equation of Line is : y=-186.47+4.71X \n",
        "\n",
        "weight is zero for the height  = 39.59 Which is obsolete\n",
        "\n",
        "The applicability of the trained model relies purely on data we use to train . It will predict the weight with high accuracy in the 60-70 weight range.\n"
      ]
    },
    {
      "cell_type": "markdown",
      "metadata": {
        "id": "yR3kPx5_6eRd",
        "colab_type": "text"
      },
      "source": [
        "Given a known set of inputs and their corresponding outputs, A machine learning model tries to make some predictions for a new set of inputs.\n",
        "\n",
        "![alt text](https://miro.medium.com/max/701/1*FevGteEfXxQ6nUFiqgSN4A.png)\n",
        "\n",
        "The Error would be the difference between the two predictions.\n",
        "\n",
        "![alt text](https://miro.medium.com/max/369/1*nhIFZVB6yB-JcuaA3Ld1cg.png)\n",
        "\n",
        "A Cost Function/Loss Function evaluates the performance of our Machine Learning Algorithm. \n",
        "The Loss function computes the error for a single training example while the Cost function is the average of the loss functions for all the training examples.\n",
        "\n",
        "![alt text](https://miro.medium.com/max/311/1*y0ME9Nfr962OLad60mpfiw.png)\n",
        "\n",
        "If you note in the above equation ,we squared the difference \n",
        "\n",
        "Reason is ,, \n",
        "The squared differences make it easier to derive a regression line. Indeed, to find that line we need to compute the first derivative of the Cost function, and it is much harder to compute the derivative of absolute values than squared values. Also, the squared differences increase the error distance, thus, making the bad predictions more pronounced than the good ones.\n"
      ]
    },
    {
      "cell_type": "code",
      "metadata": {
        "id": "1CiPvOJBZ9qG",
        "colab_type": "code",
        "colab": {
          "base_uri": "https://localhost:8080/",
          "height": 68
        },
        "outputId": "8b91ca1c-dffb-429e-e0df-bca71125bb51"
      },
      "source": [
        "# Cost function \n",
        "#print(y_intercept_line)\n",
        "Y_pred=np.array([(y_intercept_line+(slope_m*i)) for i in height])\n",
        "#print(Y_pred)\n",
        "Y_actual=weight\n",
        "print(Y_pred-Y_actual)\n",
        "cost_func=sum((Y_pred-Y_actual)**2)/Y_pred.size\n",
        "print(cost_func)"
      ],
      "execution_count": 60,
      "outputs": [
        {
          "output_type": "stream",
          "text": [
            "[ 14.41235294  -5.58764706  -4.70529412   8.82411765  -1.76411765\n",
            " -15.58764706   5.58882353  -1.17588235]\n",
            "77.20588269896201\n"
          ],
          "name": "stdout"
        }
      ]
    },
    {
      "cell_type": "markdown",
      "metadata": {
        "id": "9IO9XhuMEuiv",
        "colab_type": "text"
      },
      "source": [
        "**The goal of any Machine Learning Algorithm is to minimize the Cost Function.**\n",
        "\n",
        "This is because a lower error between the actual and the predicted values signifies that the algorithm has done a good job in learning. Since we want the lowest error value, we want those‘slope  m’ and ‘Y intercept b’ values which give the smallest possible error.\n",
        "\n"
      ]
    }
  ]
}